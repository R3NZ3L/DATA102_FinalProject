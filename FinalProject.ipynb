{
 "cells": [
  {
   "cell_type": "markdown",
   "id": "79c3e1bf-cf2e-44f0-af35-104c1309fb48",
   "metadata": {},
   "source": [
    "### DATA102 Final Project\n",
    "Submitted by **ALDECOA**, Renzel; **DUCUT**, Ezekiel; **HIDALGO**, Francisco; and **RECOMONO**, Francis <br>\n",
    "Group **8** - S13"
   ]
  },
  {
   "cell_type": "markdown",
   "id": "df5c863b-c9a6-40e9-a93b-48716febbde4",
   "metadata": {},
   "source": [
    "---\n",
    "#### Statement of the Problem"
   ]
  },
  {
   "cell_type": "markdown",
   "id": "be8cbb9e-03d5-4510-871a-d4a10eefc039",
   "metadata": {},
   "source": [
    "Lorem ipsum"
   ]
  },
  {
   "cell_type": "markdown",
   "id": "618ccb18-3fcc-4204-bcd1-901c2c55af6b",
   "metadata": {},
   "source": [
    "---\n",
    "#### Importing the necessary libraries"
   ]
  },
  {
   "cell_type": "code",
   "execution_count": 6,
   "id": "f35b07f0-021c-499f-8dcc-1b04c4203402",
   "metadata": {
    "tags": []
   },
   "outputs": [],
   "source": [
    "import pandas as pd\n",
    "import numpy as np"
   ]
  },
  {
   "cell_type": "markdown",
   "id": "61b41e78-013b-4694-8b29-82481713a68b",
   "metadata": {},
   "source": [
    "---\n",
    "#### Loading the dataset"
   ]
  },
  {
   "cell_type": "markdown",
   "id": "7b27fc2f-b2b3-43fe-83e1-82b2ef2b1009",
   "metadata": {},
   "source": [
    "The <a href=\"https://www.kaggle.com/datasets/justinas/nba-players-data\">NBA Players</a> dataset contains over two decades of data on each player who has been part of an NBA teams' roster. It captures demographic variables such as age, height, weight and place of birth, biographical details like the team played for, draft year and round. In addition, it has basic box score statistics such as games played, average number of points, rebounds, assists, etc."
   ]
  },
  {
   "cell_type": "code",
   "execution_count": 9,
   "id": "500ab7c9-c5f2-4779-b9eb-5e70fa89fcec",
   "metadata": {
    "tags": []
   },
   "outputs": [
    {
     "data": {
      "text/html": [
       "<div>\n",
       "<style scoped>\n",
       "    .dataframe tbody tr th:only-of-type {\n",
       "        vertical-align: middle;\n",
       "    }\n",
       "\n",
       "    .dataframe tbody tr th {\n",
       "        vertical-align: top;\n",
       "    }\n",
       "\n",
       "    .dataframe thead th {\n",
       "        text-align: right;\n",
       "    }\n",
       "</style>\n",
       "<table border=\"1\" class=\"dataframe\">\n",
       "  <thead>\n",
       "    <tr style=\"text-align: right;\">\n",
       "      <th></th>\n",
       "      <th>player_name</th>\n",
       "      <th>team_abbreviation</th>\n",
       "      <th>age</th>\n",
       "      <th>player_height</th>\n",
       "      <th>player_weight</th>\n",
       "      <th>college</th>\n",
       "      <th>country</th>\n",
       "      <th>draft_year</th>\n",
       "      <th>draft_round</th>\n",
       "      <th>draft_number</th>\n",
       "      <th>...</th>\n",
       "      <th>pts</th>\n",
       "      <th>reb</th>\n",
       "      <th>ast</th>\n",
       "      <th>net_rating</th>\n",
       "      <th>oreb_pct</th>\n",
       "      <th>dreb_pct</th>\n",
       "      <th>usg_pct</th>\n",
       "      <th>ts_pct</th>\n",
       "      <th>ast_pct</th>\n",
       "      <th>season</th>\n",
       "    </tr>\n",
       "  </thead>\n",
       "  <tbody>\n",
       "    <tr>\n",
       "      <th>0</th>\n",
       "      <td>Randy Livingston</td>\n",
       "      <td>HOU</td>\n",
       "      <td>22.0</td>\n",
       "      <td>193.04</td>\n",
       "      <td>94.800728</td>\n",
       "      <td>Louisiana State</td>\n",
       "      <td>USA</td>\n",
       "      <td>1996</td>\n",
       "      <td>2</td>\n",
       "      <td>42</td>\n",
       "      <td>...</td>\n",
       "      <td>3.9</td>\n",
       "      <td>1.5</td>\n",
       "      <td>2.4</td>\n",
       "      <td>0.3</td>\n",
       "      <td>0.042</td>\n",
       "      <td>0.071</td>\n",
       "      <td>0.169</td>\n",
       "      <td>0.487</td>\n",
       "      <td>0.248</td>\n",
       "      <td>1996-97</td>\n",
       "    </tr>\n",
       "    <tr>\n",
       "      <th>1</th>\n",
       "      <td>Gaylon Nickerson</td>\n",
       "      <td>WAS</td>\n",
       "      <td>28.0</td>\n",
       "      <td>190.50</td>\n",
       "      <td>86.182480</td>\n",
       "      <td>Northwestern Oklahoma</td>\n",
       "      <td>USA</td>\n",
       "      <td>1994</td>\n",
       "      <td>2</td>\n",
       "      <td>34</td>\n",
       "      <td>...</td>\n",
       "      <td>3.8</td>\n",
       "      <td>1.3</td>\n",
       "      <td>0.3</td>\n",
       "      <td>8.9</td>\n",
       "      <td>0.030</td>\n",
       "      <td>0.111</td>\n",
       "      <td>0.174</td>\n",
       "      <td>0.497</td>\n",
       "      <td>0.043</td>\n",
       "      <td>1996-97</td>\n",
       "    </tr>\n",
       "    <tr>\n",
       "      <th>2</th>\n",
       "      <td>George Lynch</td>\n",
       "      <td>VAN</td>\n",
       "      <td>26.0</td>\n",
       "      <td>203.20</td>\n",
       "      <td>103.418976</td>\n",
       "      <td>North Carolina</td>\n",
       "      <td>USA</td>\n",
       "      <td>1993</td>\n",
       "      <td>1</td>\n",
       "      <td>12</td>\n",
       "      <td>...</td>\n",
       "      <td>8.3</td>\n",
       "      <td>6.4</td>\n",
       "      <td>1.9</td>\n",
       "      <td>-8.2</td>\n",
       "      <td>0.106</td>\n",
       "      <td>0.185</td>\n",
       "      <td>0.175</td>\n",
       "      <td>0.512</td>\n",
       "      <td>0.125</td>\n",
       "      <td>1996-97</td>\n",
       "    </tr>\n",
       "    <tr>\n",
       "      <th>3</th>\n",
       "      <td>George McCloud</td>\n",
       "      <td>LAL</td>\n",
       "      <td>30.0</td>\n",
       "      <td>203.20</td>\n",
       "      <td>102.058200</td>\n",
       "      <td>Florida State</td>\n",
       "      <td>USA</td>\n",
       "      <td>1989</td>\n",
       "      <td>1</td>\n",
       "      <td>7</td>\n",
       "      <td>...</td>\n",
       "      <td>10.2</td>\n",
       "      <td>2.8</td>\n",
       "      <td>1.7</td>\n",
       "      <td>-2.7</td>\n",
       "      <td>0.027</td>\n",
       "      <td>0.111</td>\n",
       "      <td>0.206</td>\n",
       "      <td>0.527</td>\n",
       "      <td>0.125</td>\n",
       "      <td>1996-97</td>\n",
       "    </tr>\n",
       "    <tr>\n",
       "      <th>4</th>\n",
       "      <td>George Zidek</td>\n",
       "      <td>DEN</td>\n",
       "      <td>23.0</td>\n",
       "      <td>213.36</td>\n",
       "      <td>119.748288</td>\n",
       "      <td>UCLA</td>\n",
       "      <td>USA</td>\n",
       "      <td>1995</td>\n",
       "      <td>1</td>\n",
       "      <td>22</td>\n",
       "      <td>...</td>\n",
       "      <td>2.8</td>\n",
       "      <td>1.7</td>\n",
       "      <td>0.3</td>\n",
       "      <td>-14.1</td>\n",
       "      <td>0.102</td>\n",
       "      <td>0.169</td>\n",
       "      <td>0.195</td>\n",
       "      <td>0.500</td>\n",
       "      <td>0.064</td>\n",
       "      <td>1996-97</td>\n",
       "    </tr>\n",
       "  </tbody>\n",
       "</table>\n",
       "<p>5 rows × 21 columns</p>\n",
       "</div>"
      ],
      "text/plain": [
       "        player_name team_abbreviation   age  player_height  player_weight  \\\n",
       "0  Randy Livingston               HOU  22.0         193.04      94.800728   \n",
       "1  Gaylon Nickerson               WAS  28.0         190.50      86.182480   \n",
       "2      George Lynch               VAN  26.0         203.20     103.418976   \n",
       "3    George McCloud               LAL  30.0         203.20     102.058200   \n",
       "4      George Zidek               DEN  23.0         213.36     119.748288   \n",
       "\n",
       "                 college country draft_year draft_round draft_number  ...  \\\n",
       "0        Louisiana State     USA       1996           2           42  ...   \n",
       "1  Northwestern Oklahoma     USA       1994           2           34  ...   \n",
       "2         North Carolina     USA       1993           1           12  ...   \n",
       "3          Florida State     USA       1989           1            7  ...   \n",
       "4                   UCLA     USA       1995           1           22  ...   \n",
       "\n",
       "    pts  reb  ast  net_rating  oreb_pct  dreb_pct  usg_pct  ts_pct  ast_pct  \\\n",
       "0   3.9  1.5  2.4         0.3     0.042     0.071    0.169   0.487    0.248   \n",
       "1   3.8  1.3  0.3         8.9     0.030     0.111    0.174   0.497    0.043   \n",
       "2   8.3  6.4  1.9        -8.2     0.106     0.185    0.175   0.512    0.125   \n",
       "3  10.2  2.8  1.7        -2.7     0.027     0.111    0.206   0.527    0.125   \n",
       "4   2.8  1.7  0.3       -14.1     0.102     0.169    0.195   0.500    0.064   \n",
       "\n",
       "    season  \n",
       "0  1996-97  \n",
       "1  1996-97  \n",
       "2  1996-97  \n",
       "3  1996-97  \n",
       "4  1996-97  \n",
       "\n",
       "[5 rows x 21 columns]"
      ]
     },
     "execution_count": 9,
     "metadata": {},
     "output_type": "execute_result"
    }
   ],
   "source": [
    "df = pd.read_csv(\"NBA-Dataset/all_seasons.csv\", index_col=0)\n",
    "df.head()"
   ]
  },
  {
   "cell_type": "markdown",
   "id": "365bc0af-05c9-4a1a-acc6-9a0324ade559",
   "metadata": {
    "tags": []
   },
   "source": [
    "##### Dataset infomation via `pandas`"
   ]
  },
  {
   "cell_type": "code",
   "execution_count": 11,
   "id": "57e396ee-4378-403d-85c7-2cc81f801095",
   "metadata": {
    "tags": []
   },
   "outputs": [
    {
     "name": "stdout",
     "output_type": "stream",
     "text": [
      "<class 'pandas.core.frame.DataFrame'>\n",
      "Index: 12844 entries, 0 to 12843\n",
      "Data columns (total 21 columns):\n",
      " #   Column             Non-Null Count  Dtype  \n",
      "---  ------             --------------  -----  \n",
      " 0   player_name        12844 non-null  object \n",
      " 1   team_abbreviation  12844 non-null  object \n",
      " 2   age                12844 non-null  float64\n",
      " 3   player_height      12844 non-null  float64\n",
      " 4   player_weight      12844 non-null  float64\n",
      " 5   college            10990 non-null  object \n",
      " 6   country            12844 non-null  object \n",
      " 7   draft_year         12844 non-null  object \n",
      " 8   draft_round        12844 non-null  object \n",
      " 9   draft_number       12844 non-null  object \n",
      " 10  gp                 12844 non-null  int64  \n",
      " 11  pts                12844 non-null  float64\n",
      " 12  reb                12844 non-null  float64\n",
      " 13  ast                12844 non-null  float64\n",
      " 14  net_rating         12844 non-null  float64\n",
      " 15  oreb_pct           12844 non-null  float64\n",
      " 16  dreb_pct           12844 non-null  float64\n",
      " 17  usg_pct            12844 non-null  float64\n",
      " 18  ts_pct             12844 non-null  float64\n",
      " 19  ast_pct            12844 non-null  float64\n",
      " 20  season             12844 non-null  object \n",
      "dtypes: float64(12), int64(1), object(8)\n",
      "memory usage: 2.2+ MB\n"
     ]
    }
   ],
   "source": [
    "df.info()"
   ]
  },
  {
   "cell_type": "markdown",
   "id": "557c6e12-71f5-441d-b5e9-db745a35c94d",
   "metadata": {
    "tags": []
   },
   "source": [
    "##### Feature Descriptions"
   ]
  },
  {
   "cell_type": "markdown",
   "id": "e9d3bc53-950c-453d-8121-2ca357d253a2",
   "metadata": {},
   "source": [
    "- `player_name` - Name of the player\n",
    "- `team_abbreviation` - Abbreviated name of the tead the player played for (at the end of the season)\n",
    "- `age` - Age of the player\n",
    "- `player_height` - Height of the player (in centimeters)\n",
    "- `player_weight` - Weight of the player (in kilograms)\n",
    "- `college` - Name of the college the player attended\n",
    "- `country` - Name of the country the player was born in (not necessarily the nationality)\n",
    "- `draft_year` - Year the player was drafted\n",
    "- `draft_round` - Draft round the player was picked\n",
    "- `draft_number` - Number at which the player was picked in his draft round\n",
    "- `gp` - Games played (throughout current season)\n",
    "- `pts` - Average number of points scored per game\n",
    "- `reb` - Average number of rebounds grabbed per game\n",
    "- `ast` - Average number of assists distributed per game\n",
    "- `net_rating` - Team's point differential per 100 possessions while the player is on court\n",
    "- `oreb_pct` - Percentage of available offensive rebounds the player grabbed while he was on court\n",
    "- `dreb_pct` - Percentage of available defensive rebounds the player grabbed while he was on court\n",
    "- `usg_pct` - Percentage of team plays used by the player while he was on court ((FGA + Possession Ending FTA + TO) / POSS)\n",
    "- `ts_pct` - Measure of the player's shooting efficiency that takes into account free throws, 2 and 3 point shots (PTS / (2 * (FGA + 0.44 * FTA)))\n",
    "- `ast_pct` - Percentage of teammate field goals the player assisted while he was on court\n",
    "- `season` - NBA season\n",
    "\n",
    "*Descriptions taken from Kaggle dataset details*"
   ]
  },
  {
   "cell_type": "markdown",
   "id": "04184c08-1012-4ac8-ae88-0232533500f2",
   "metadata": {},
   "source": [
    "---\n",
    "#### Exploratory Data Analysis"
   ]
  },
  {
   "cell_type": "markdown",
   "id": "afb43031-5c36-4d65-ad65-151693ca082a",
   "metadata": {},
   "source": [
    "##### Exploring the features"
   ]
  },
  {
   "cell_type": "code",
   "execution_count": 16,
   "id": "140d0b2c-f025-4e38-982c-28eb664e03ca",
   "metadata": {},
   "outputs": [
    {
     "data": {
      "text/html": [
       "<div>\n",
       "<style scoped>\n",
       "    .dataframe tbody tr th:only-of-type {\n",
       "        vertical-align: middle;\n",
       "    }\n",
       "\n",
       "    .dataframe tbody tr th {\n",
       "        vertical-align: top;\n",
       "    }\n",
       "\n",
       "    .dataframe thead th {\n",
       "        text-align: right;\n",
       "    }\n",
       "</style>\n",
       "<table border=\"1\" class=\"dataframe\">\n",
       "  <thead>\n",
       "    <tr style=\"text-align: right;\">\n",
       "      <th></th>\n",
       "      <th>player_name</th>\n",
       "      <th>team_abbreviation</th>\n",
       "      <th>age</th>\n",
       "      <th>player_height</th>\n",
       "      <th>player_weight</th>\n",
       "      <th>college</th>\n",
       "      <th>country</th>\n",
       "      <th>draft_year</th>\n",
       "      <th>draft_round</th>\n",
       "      <th>draft_number</th>\n",
       "      <th>...</th>\n",
       "      <th>pts</th>\n",
       "      <th>reb</th>\n",
       "      <th>ast</th>\n",
       "      <th>net_rating</th>\n",
       "      <th>oreb_pct</th>\n",
       "      <th>dreb_pct</th>\n",
       "      <th>usg_pct</th>\n",
       "      <th>ts_pct</th>\n",
       "      <th>ast_pct</th>\n",
       "      <th>season</th>\n",
       "    </tr>\n",
       "  </thead>\n",
       "  <tbody>\n",
       "    <tr>\n",
       "      <th>0</th>\n",
       "      <td>Randy Livingston</td>\n",
       "      <td>HOU</td>\n",
       "      <td>22.0</td>\n",
       "      <td>193.04</td>\n",
       "      <td>94.800728</td>\n",
       "      <td>Louisiana State</td>\n",
       "      <td>USA</td>\n",
       "      <td>1996</td>\n",
       "      <td>2</td>\n",
       "      <td>42</td>\n",
       "      <td>...</td>\n",
       "      <td>3.9</td>\n",
       "      <td>1.5</td>\n",
       "      <td>2.4</td>\n",
       "      <td>0.3</td>\n",
       "      <td>0.042</td>\n",
       "      <td>0.071</td>\n",
       "      <td>0.169</td>\n",
       "      <td>0.487</td>\n",
       "      <td>0.248</td>\n",
       "      <td>1996-97</td>\n",
       "    </tr>\n",
       "    <tr>\n",
       "      <th>1</th>\n",
       "      <td>Gaylon Nickerson</td>\n",
       "      <td>WAS</td>\n",
       "      <td>28.0</td>\n",
       "      <td>190.50</td>\n",
       "      <td>86.182480</td>\n",
       "      <td>Northwestern Oklahoma</td>\n",
       "      <td>USA</td>\n",
       "      <td>1994</td>\n",
       "      <td>2</td>\n",
       "      <td>34</td>\n",
       "      <td>...</td>\n",
       "      <td>3.8</td>\n",
       "      <td>1.3</td>\n",
       "      <td>0.3</td>\n",
       "      <td>8.9</td>\n",
       "      <td>0.030</td>\n",
       "      <td>0.111</td>\n",
       "      <td>0.174</td>\n",
       "      <td>0.497</td>\n",
       "      <td>0.043</td>\n",
       "      <td>1996-97</td>\n",
       "    </tr>\n",
       "    <tr>\n",
       "      <th>2</th>\n",
       "      <td>George Lynch</td>\n",
       "      <td>VAN</td>\n",
       "      <td>26.0</td>\n",
       "      <td>203.20</td>\n",
       "      <td>103.418976</td>\n",
       "      <td>North Carolina</td>\n",
       "      <td>USA</td>\n",
       "      <td>1993</td>\n",
       "      <td>1</td>\n",
       "      <td>12</td>\n",
       "      <td>...</td>\n",
       "      <td>8.3</td>\n",
       "      <td>6.4</td>\n",
       "      <td>1.9</td>\n",
       "      <td>-8.2</td>\n",
       "      <td>0.106</td>\n",
       "      <td>0.185</td>\n",
       "      <td>0.175</td>\n",
       "      <td>0.512</td>\n",
       "      <td>0.125</td>\n",
       "      <td>1996-97</td>\n",
       "    </tr>\n",
       "  </tbody>\n",
       "</table>\n",
       "<p>3 rows × 21 columns</p>\n",
       "</div>"
      ],
      "text/plain": [
       "        player_name team_abbreviation   age  player_height  player_weight  \\\n",
       "0  Randy Livingston               HOU  22.0         193.04      94.800728   \n",
       "1  Gaylon Nickerson               WAS  28.0         190.50      86.182480   \n",
       "2      George Lynch               VAN  26.0         203.20     103.418976   \n",
       "\n",
       "                 college country draft_year draft_round draft_number  ...  \\\n",
       "0        Louisiana State     USA       1996           2           42  ...   \n",
       "1  Northwestern Oklahoma     USA       1994           2           34  ...   \n",
       "2         North Carolina     USA       1993           1           12  ...   \n",
       "\n",
       "   pts  reb  ast  net_rating  oreb_pct  dreb_pct  usg_pct  ts_pct  ast_pct  \\\n",
       "0  3.9  1.5  2.4         0.3     0.042     0.071    0.169   0.487    0.248   \n",
       "1  3.8  1.3  0.3         8.9     0.030     0.111    0.174   0.497    0.043   \n",
       "2  8.3  6.4  1.9        -8.2     0.106     0.185    0.175   0.512    0.125   \n",
       "\n",
       "    season  \n",
       "0  1996-97  \n",
       "1  1996-97  \n",
       "2  1996-97  \n",
       "\n",
       "[3 rows x 21 columns]"
      ]
     },
     "execution_count": 16,
     "metadata": {},
     "output_type": "execute_result"
    }
   ],
   "source": [
    "df.head(3)"
   ]
  },
  {
   "cell_type": "markdown",
   "id": "121ade93-7bde-4f91-a96b-ab56c411e878",
   "metadata": {},
   "source": [
    "Unique values"
   ]
  },
  {
   "cell_type": "code",
   "execution_count": 18,
   "id": "2e00fbe0-51f0-4df2-ae64-173bb29ff281",
   "metadata": {},
   "outputs": [
    {
     "name": "stdout",
     "output_type": "stream",
     "text": [
      "Number of unique players (across all seasons): 2551\n",
      "Number of unique colleges: 357\n"
     ]
    }
   ],
   "source": [
    "player_num = len(df[\"player_name\"].unique())\n",
    "college_num = len(df[\"college\"].unique())\n",
    "\n",
    "print(f\"Number of unique players (across all seasons): {player_num}\")\n",
    "print(f\"Number of unique colleges: {college_num}\")"
   ]
  },
  {
   "cell_type": "code",
   "execution_count": null,
   "id": "d131ac9e-fcec-41db-a57d-54d743fcd270",
   "metadata": {},
   "outputs": [],
   "source": []
  },
  {
   "cell_type": "code",
   "execution_count": null,
   "id": "33974171-090f-458f-afc2-1b52b03e9a12",
   "metadata": {},
   "outputs": [],
   "source": []
  },
  {
   "cell_type": "code",
   "execution_count": null,
   "id": "b533034e-7efc-4ae4-aec5-6a738ae45159",
   "metadata": {},
   "outputs": [],
   "source": []
  },
  {
   "cell_type": "code",
   "execution_count": null,
   "id": "c8ea1d06-de3b-494c-8984-716a7d14aa2d",
   "metadata": {},
   "outputs": [],
   "source": []
  },
  {
   "cell_type": "code",
   "execution_count": null,
   "id": "7b8bad7f-f96a-49db-99d1-a036cc91faae",
   "metadata": {},
   "outputs": [],
   "source": []
  },
  {
   "cell_type": "code",
   "execution_count": null,
   "id": "862c5776-cc4c-401a-9adf-593188e830f0",
   "metadata": {},
   "outputs": [],
   "source": []
  },
  {
   "cell_type": "code",
   "execution_count": null,
   "id": "ff598a3b-9726-4b41-8f45-35b9cdbe0d2a",
   "metadata": {},
   "outputs": [],
   "source": []
  },
  {
   "cell_type": "markdown",
   "id": "f366fdaa-698f-43ff-b851-8f443a86be3b",
   "metadata": {
    "tags": []
   },
   "source": [
    "---\n",
    "#### Data Preprocessing"
   ]
  },
  {
   "cell_type": "code",
   "execution_count": null,
   "id": "b9241b74-2e3f-43ff-8d91-fd4a0aea28bc",
   "metadata": {},
   "outputs": [],
   "source": []
  },
  {
   "cell_type": "code",
   "execution_count": null,
   "id": "1d03fc05-21a0-42cf-b0ba-4ad48f7dea24",
   "metadata": {},
   "outputs": [],
   "source": []
  },
  {
   "cell_type": "code",
   "execution_count": null,
   "id": "7396428d-f034-40d8-9289-5e7cd93f1ee6",
   "metadata": {},
   "outputs": [],
   "source": []
  },
  {
   "cell_type": "markdown",
   "id": "f75707d3-3d08-4cdd-854c-3735586c7d0c",
   "metadata": {
    "tags": []
   },
   "source": [
    "---\n",
    "#### Model Training"
   ]
  },
  {
   "cell_type": "code",
   "execution_count": null,
   "id": "688903ee-6bc9-481a-906a-fd83c7b949c4",
   "metadata": {},
   "outputs": [],
   "source": []
  },
  {
   "cell_type": "code",
   "execution_count": null,
   "id": "15c56685-a598-4c2e-be6a-1f726e7639ab",
   "metadata": {},
   "outputs": [],
   "source": []
  },
  {
   "cell_type": "code",
   "execution_count": null,
   "id": "122af817-3e10-496f-8249-6144aa9deb2e",
   "metadata": {},
   "outputs": [],
   "source": []
  },
  {
   "cell_type": "code",
   "execution_count": null,
   "id": "1142bfc1-7911-4b44-8e08-487e4dde9531",
   "metadata": {},
   "outputs": [],
   "source": []
  }
 ],
 "metadata": {
  "kernelspec": {
   "display_name": "Python 3 (ipykernel)",
   "language": "python",
   "name": "python3"
  },
  "language_info": {
   "codemirror_mode": {
    "name": "ipython",
    "version": 3
   },
   "file_extension": ".py",
   "mimetype": "text/x-python",
   "name": "python",
   "nbconvert_exporter": "python",
   "pygments_lexer": "ipython3",
   "version": "3.11.5"
  }
 },
 "nbformat": 4,
 "nbformat_minor": 5
}
